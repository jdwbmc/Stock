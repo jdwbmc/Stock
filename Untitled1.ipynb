{
 "cells": [
  {
   "cell_type": "code",
   "execution_count": 8,
   "id": "737ffa16",
   "metadata": {},
   "outputs": [
    {
     "name": "stdout",
     "output_type": "stream",
     "text": [
      "x:  [[1.  1.5 2.  2.5 3. ]]\n",
      "x type:  <class 'numpy.ndarray'>\n",
      "x len:  1\n",
      "x shape:  (1, 5)\n",
      "tmp:  [array([1. , 1.5, 2. , 2.5, 3. ])]\n",
      "tmp type:  <class 'list'>\n",
      "tmp len:  1\n",
      "tmp2:  [1.0, 1.5, 2.0, 2.5, 3.0]\n",
      "tmp2 type:  <class 'list'>\n",
      "tmp2 len:  5\n"
     ]
    }
   ],
   "source": [
    "import numpy as np\n",
    "x = np.array([[1.0,1.5,2.0,2.5,3.0]])\n",
    "print('x: ',x)\n",
    "print('x type: ',type(x))\n",
    "print('x len: ',len(x))\n",
    "print('x shape: ',x.shape)\n",
    "tmp = list(x)\n",
    "print('tmp: ',tmp)\n",
    "print('tmp type: ',type(tmp))\n",
    "print('tmp len: ',len(tmp))\n",
    "tmp=tmp[0].tolist()\n",
    "print('tmp2: ',tmp)\n",
    "print('tmp2 type: ',type(tmp))\n",
    "print('tmp2 len: ',len(tmp))"
   ]
  }
 ],
 "metadata": {
  "kernelspec": {
   "display_name": "Python 3",
   "language": "python",
   "name": "python3"
  },
  "language_info": {
   "codemirror_mode": {
    "name": "ipython",
    "version": 3
   },
   "file_extension": ".py",
   "mimetype": "text/x-python",
   "name": "python",
   "nbconvert_exporter": "python",
   "pygments_lexer": "ipython3",
   "version": "3.7.10"
  }
 },
 "nbformat": 4,
 "nbformat_minor": 5
}
