{
 "cells": [
  {
   "cell_type": "code",
   "execution_count": 3,
   "id": "1a260541",
   "metadata": {},
   "outputs": [
    {
     "name": "stdout",
     "output_type": "stream",
     "text": [
      "C:\\Users\\jwilliams\\Anaconda3\\envs\\PYC\\python.exe\n",
      "C:\\Users\\jwilliams\\AppData\\Local\\Programs\\Python\\Python37\\python.exe\n"
     ]
    }
   ],
   "source": [
    "!where python"
   ]
  },
  {
   "cell_type": "code",
   "execution_count": 4,
   "id": "0feb82b1",
   "metadata": {},
   "outputs": [
    {
     "name": "stdout",
     "output_type": "stream",
     "text": [
      "C:\\Users\\jwilliams\\Anaconda3\\envs\\PYC\\Scripts\\jupyter.exe\n"
     ]
    }
   ],
   "source": [
    "!where jupyter"
   ]
  },
  {
   "cell_type": "code",
   "execution_count": 5,
   "id": "9c5d0887",
   "metadata": {},
   "outputs": [
    {
     "name": "stdout",
     "output_type": "stream",
     "text": [
      "C:\\Users\\jwilliams\\Anaconda3\\envs\\PYC\\Scripts\\ipython.exe\n"
     ]
    }
   ],
   "source": [
    "!where ipython"
   ]
  },
  {
   "cell_type": "code",
   "execution_count": 6,
   "id": "1cdf4106",
   "metadata": {},
   "outputs": [
    {
     "name": "stderr",
     "output_type": "stream",
     "text": [
      "INFO: Could not find files for the given pattern(s).\n"
     ]
    }
   ],
   "source": [
    "!where pandas"
   ]
  },
  {
   "cell_type": "code",
   "execution_count": 7,
   "id": "90d1392e",
   "metadata": {},
   "outputs": [
    {
     "name": "stderr",
     "output_type": "stream",
     "text": [
      "INFO: Could not find files for the given pattern(s).\n"
     ]
    }
   ],
   "source": [
    "!where qt"
   ]
  },
  {
   "cell_type": "code",
   "execution_count": 9,
   "id": "7f2bfb5f",
   "metadata": {},
   "outputs": [
    {
     "name": "stderr",
     "output_type": "stream",
     "text": [
      "INFO: Could not find files for the given pattern(s).\n"
     ]
    }
   ],
   "source": [
    "!where abc"
   ]
  },
  {
   "cell_type": "code",
   "execution_count": null,
   "id": "cd45364a",
   "metadata": {},
   "outputs": [],
   "source": []
  }
 ],
 "metadata": {
  "kernelspec": {
   "display_name": "Python 3",
   "language": "python",
   "name": "python3"
  },
  "language_info": {
   "codemirror_mode": {
    "name": "ipython",
    "version": 3
   },
   "file_extension": ".py",
   "mimetype": "text/x-python",
   "name": "python",
   "nbconvert_exporter": "python",
   "pygments_lexer": "ipython3",
   "version": "3.7.10"
  }
 },
 "nbformat": 4,
 "nbformat_minor": 5
}
